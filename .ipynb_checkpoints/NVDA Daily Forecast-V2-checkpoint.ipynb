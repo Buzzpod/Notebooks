{
 "cells": [
  {
   "cell_type": "markdown",
   "id": "18334faf",
   "metadata": {},
   "source": [
    "# Nvidia Daily Stock Price Forecasting"
   ]
  },
  {
   "cell_type": "markdown",
   "id": "bd220b71",
   "metadata": {},
   "source": [
    "## Import dependencies"
   ]
  },
  {
   "cell_type": "code",
   "execution_count": 36,
   "id": "aa782898",
   "metadata": {},
   "outputs": [
    {
     "name": "stdout",
     "output_type": "stream",
     "text": [
      "Collecting tensorflow-gpu\n",
      "  Using cached tensorflow-gpu-2.12.0.tar.gz (2.6 kB)\n",
      "Requirement already satisfied: python_version>\"3.7\" in c:\\users\\hello\\anaconda3\\lib\\site-packages (from tensorflow-gpu) (0.0.2)\n",
      "Building wheels for collected packages: tensorflow-gpu\n",
      "  Building wheel for tensorflow-gpu (setup.py): started\n",
      "  Building wheel for tensorflow-gpu (setup.py): finished with status 'error'\n",
      "  Running setup.py clean for tensorflow-gpu\n",
      "Failed to build tensorflow-gpu\n",
      "Installing collected packages: tensorflow-gpu\n",
      "    Running setup.py install for tensorflow-gpu: started\n",
      "    Running setup.py install for tensorflow-gpu: finished with status 'error'\n"
     ]
    },
    {
     "name": "stderr",
     "output_type": "stream",
     "text": [
      "WARNING: Ignoring invalid distribution -tatsmodels (c:\\users\\hello\\anaconda3\\lib\\site-packages)\n",
      "WARNING: Ignoring invalid distribution -tatsmodels (c:\\users\\hello\\anaconda3\\lib\\site-packages)\n",
      "  ERROR: Command errored out with exit status 1:\n",
      "   command: 'C:\\Users\\hello\\anaconda3\\python.exe' -u -c 'import io, os, sys, setuptools, tokenize; sys.argv[0] = '\"'\"'C:\\\\Users\\\\hello\\\\AppData\\\\Local\\\\Temp\\\\pip-install-njj90h6w\\\\tensorflow-gpu_cb345d73d92a41d9a1c5c3dac42617c4\\\\setup.py'\"'\"'; __file__='\"'\"'C:\\\\Users\\\\hello\\\\AppData\\\\Local\\\\Temp\\\\pip-install-njj90h6w\\\\tensorflow-gpu_cb345d73d92a41d9a1c5c3dac42617c4\\\\setup.py'\"'\"';f = getattr(tokenize, '\"'\"'open'\"'\"', open)(__file__) if os.path.exists(__file__) else io.StringIO('\"'\"'from setuptools import setup; setup()'\"'\"');code = f.read().replace('\"'\"'\\r\\n'\"'\"', '\"'\"'\\n'\"'\"');f.close();exec(compile(code, __file__, '\"'\"'exec'\"'\"'))' bdist_wheel -d 'C:\\Users\\hello\\AppData\\Local\\Temp\\pip-wheel-w2l62hjq'\n",
      "       cwd: C:\\Users\\hello\\AppData\\Local\\Temp\\pip-install-njj90h6w\\tensorflow-gpu_cb345d73d92a41d9a1c5c3dac42617c4\\\n",
      "  Complete output (17 lines):\n",
      "  Traceback (most recent call last):\n",
      "    File \"<string>\", line 1, in <module>\n",
      "    File \"C:\\Users\\hello\\AppData\\Local\\Temp\\pip-install-njj90h6w\\tensorflow-gpu_cb345d73d92a41d9a1c5c3dac42617c4\\setup.py\", line 37, in <module>\n",
      "      raise Exception(TF_REMOVAL_WARNING)\n",
      "  Exception:\n",
      "  \n",
      "  =========================================================\n",
      "  The \"tensorflow-gpu\" package has been removed!\n",
      "  \n",
      "  Please install \"tensorflow\" instead.\n",
      "  \n",
      "  Other than the name, the two packages have been identical\n",
      "  since TensorFlow 2.1, or roughly since Sep 2019. For more\n",
      "  information, see: pypi.org/project/tensorflow-gpu\n",
      "  =========================================================\n",
      "  \n",
      "  \n",
      "  ----------------------------------------\n",
      "  ERROR: Failed building wheel for tensorflow-gpu\n",
      "WARNING: Ignoring invalid distribution -tatsmodels (c:\\users\\hello\\anaconda3\\lib\\site-packages)\n",
      "    ERROR: Command errored out with exit status 1:\n",
      "     command: 'C:\\Users\\hello\\anaconda3\\python.exe' -u -c 'import io, os, sys, setuptools, tokenize; sys.argv[0] = '\"'\"'C:\\\\Users\\\\hello\\\\AppData\\\\Local\\\\Temp\\\\pip-install-njj90h6w\\\\tensorflow-gpu_cb345d73d92a41d9a1c5c3dac42617c4\\\\setup.py'\"'\"'; __file__='\"'\"'C:\\\\Users\\\\hello\\\\AppData\\\\Local\\\\Temp\\\\pip-install-njj90h6w\\\\tensorflow-gpu_cb345d73d92a41d9a1c5c3dac42617c4\\\\setup.py'\"'\"';f = getattr(tokenize, '\"'\"'open'\"'\"', open)(__file__) if os.path.exists(__file__) else io.StringIO('\"'\"'from setuptools import setup; setup()'\"'\"');code = f.read().replace('\"'\"'\\r\\n'\"'\"', '\"'\"'\\n'\"'\"');f.close();exec(compile(code, __file__, '\"'\"'exec'\"'\"'))' install --record 'C:\\Users\\hello\\AppData\\Local\\Temp\\pip-record-41uzo59n\\install-record.txt' --single-version-externally-managed --compile --install-headers 'C:\\Users\\hello\\anaconda3\\Include\\tensorflow-gpu'\n",
      "         cwd: C:\\Users\\hello\\AppData\\Local\\Temp\\pip-install-njj90h6w\\tensorflow-gpu_cb345d73d92a41d9a1c5c3dac42617c4\\\n",
      "    Complete output (17 lines):\n",
      "    Traceback (most recent call last):\n",
      "      File \"<string>\", line 1, in <module>\n",
      "      File \"C:\\Users\\hello\\AppData\\Local\\Temp\\pip-install-njj90h6w\\tensorflow-gpu_cb345d73d92a41d9a1c5c3dac42617c4\\setup.py\", line 37, in <module>\n",
      "        raise Exception(TF_REMOVAL_WARNING)\n",
      "    Exception:\n",
      "    \n",
      "    =========================================================\n",
      "    The \"tensorflow-gpu\" package has been removed!\n",
      "    \n",
      "    Please install \"tensorflow\" instead.\n",
      "    \n",
      "    Other than the name, the two packages have been identical\n",
      "    since TensorFlow 2.1, or roughly since Sep 2019. For more\n",
      "    information, see: pypi.org/project/tensorflow-gpu\n",
      "    =========================================================\n",
      "    \n",
      "    \n",
      "    ----------------------------------------\n",
      "ERROR: Command errored out with exit status 1: 'C:\\Users\\hello\\anaconda3\\python.exe' -u -c 'import io, os, sys, setuptools, tokenize; sys.argv[0] = '\"'\"'C:\\\\Users\\\\hello\\\\AppData\\\\Local\\\\Temp\\\\pip-install-njj90h6w\\\\tensorflow-gpu_cb345d73d92a41d9a1c5c3dac42617c4\\\\setup.py'\"'\"'; __file__='\"'\"'C:\\\\Users\\\\hello\\\\AppData\\\\Local\\\\Temp\\\\pip-install-njj90h6w\\\\tensorflow-gpu_cb345d73d92a41d9a1c5c3dac42617c4\\\\setup.py'\"'\"';f = getattr(tokenize, '\"'\"'open'\"'\"', open)(__file__) if os.path.exists(__file__) else io.StringIO('\"'\"'from setuptools import setup; setup()'\"'\"');code = f.read().replace('\"'\"'\\r\\n'\"'\"', '\"'\"'\\n'\"'\"');f.close();exec(compile(code, __file__, '\"'\"'exec'\"'\"'))' install --record 'C:\\Users\\hello\\AppData\\Local\\Temp\\pip-record-41uzo59n\\install-record.txt' --single-version-externally-managed --compile --install-headers 'C:\\Users\\hello\\anaconda3\\Include\\tensorflow-gpu' Check the logs for full command output.\n",
      "WARNING: Ignoring invalid distribution -tatsmodels (c:\\users\\hello\\anaconda3\\lib\\site-packages)\n",
      "WARNING: Ignoring invalid distribution -tatsmodels (c:\\users\\hello\\anaconda3\\lib\\site-packages)\n",
      "WARNING: Ignoring invalid distribution -tatsmodels (c:\\users\\hello\\anaconda3\\lib\\site-packages)\n"
     ]
    }
   ],
   "source": [
    "!pip3 install --upgrade tensorflow-gpu"
   ]
  },
  {
   "cell_type": "code",
   "execution_count": 41,
   "id": "4f8788a6",
   "metadata": {},
   "outputs": [],
   "source": [
    "from statsmodels.graphics.tsaplots import plot_acf, plot_pacf\n",
    "import pandas_datareader.data as web\n",
    "import matplotlib.pyplot as plt\n",
    "import yfinance as yf\n",
    "import pandas as pd\n",
    "import numpy as np\n",
    "import datetime\n",
    "from sklearn.preprocessing import MinMaxScaler\n",
    "from keras.models import Sequential\n",
    "from keras.layers import Dense\n",
    "from keras.layers import LSTM\n",
    "from keras.layers import Dropout\n",
    "from keras.models import load_model\n",
    "from sklearn.preprocessing import MinMaxScaler\n",
    "import keras\n",
    "from sklearn.metrics import mean_squared_error, mean_absolute_error\n",
    "import tensorflow as tf\n",
    "from tensorflow.keras import layers"
   ]
  },
  {
   "cell_type": "markdown",
   "id": "7c41e3b5",
   "metadata": {},
   "source": [
    "### Enable GPU acceleration"
   ]
  },
  {
   "cell_type": "markdown",
   "id": "52ee16ac",
   "metadata": {},
   "source": [
    "GPU acceleration requires a compatible Nvidia GPU and for you to install CUDA toolkit and cuDNN"
   ]
  },
  {
   "cell_type": "code",
   "execution_count": 42,
   "id": "cbf19147",
   "metadata": {},
   "outputs": [
    {
     "name": "stdout",
     "output_type": "stream",
     "text": [
      "[]\n"
     ]
    }
   ],
   "source": [
    "physical_devices = tf.config.experimental.list_physical_devices('GPU')\n",
    "print(physical_devices)\n",
    "if physical_devices:\n",
    "  tf.config.experimental.set_memory_growth(physical_devices[0], True)"
   ]
  },
  {
   "cell_type": "code",
   "execution_count": 26,
   "id": "83c61f8a",
   "metadata": {},
   "outputs": [],
   "source": [
    "# Enable GPU acceleration\n",
    "gpus = tf.config.list_physical_devices('GPU')\n",
    "\n",
    "if gpus:\n",
    "    try:\n",
    "        # Set memory growth for each GPU device\n",
    "        for gpu in gpus:\n",
    "            tf.config.experimental.set_memory_growth(gpu, True)\n",
    "        logical_gpus = tf.config.list_logical_devices('GPU')\n",
    "        print(len(gpus), \"Physical GPUs,\", len(logical_gpus), \"Logical GPUs\")\n",
    "    except RuntimeError as e:\n",
    "        print(e)"
   ]
  },
  {
   "cell_type": "markdown",
   "id": "62720cb8",
   "metadata": {},
   "source": [
    "## Import Data"
   ]
  },
  {
   "cell_type": "code",
   "execution_count": 2,
   "id": "dfedf39c",
   "metadata": {},
   "outputs": [],
   "source": [
    "# Set start and end dates\n",
    "start_date = datetime.datetime(2013, 4, 1)\n",
    "end_date = datetime.datetime(2020, 3, 1)"
   ]
  },
  {
   "cell_type": "code",
   "execution_count": 3,
   "id": "b46f2359",
   "metadata": {},
   "outputs": [],
   "source": [
    "# Define a dictionary with the ticker symbols and asset names\n",
    "tickers = {\n",
    "    \"NVDA\": \"NVIDIA Corporation\",\n",
    "    \"^GSPC\": \"S&P 500\",\n",
    "    \"^TNX\": \"10-Year US Government Bond\"\n",
    "}"
   ]
  },
  {
   "cell_type": "code",
   "execution_count": 4,
   "id": "add55dac",
   "metadata": {},
   "outputs": [],
   "source": [
    "# Create an empty DataFrame to store the data\n",
    "df_prices = pd.DataFrame()\n",
    "df_returns = pd.DataFrame()"
   ]
  },
  {
   "cell_type": "code",
   "execution_count": 5,
   "id": "c1d3ba1c",
   "metadata": {},
   "outputs": [
    {
     "name": "stdout",
     "output_type": "stream",
     "text": [
      "[*********************100%***********************]  3 of 3 completed\n"
     ]
    }
   ],
   "source": [
    "# Define the desired frequency (daily, weekly, monthly)\n",
    "frequency = \"1d\"  # \"1d\" for daily, \"1wk\" for weekly, \"1mo\" for monthly\n",
    "\n",
    "# Fetch the data from Yahoo Finance using yfinance for daily prices\n",
    "df_daily_prices = yf.download(list(tickers.keys()), start=start_date, end=end_date, interval=frequency)[\"Close\"]\n",
    "\n",
    "# Calculate the log returns for daily prices\n",
    "df_daily_log_returns = np.log(df_daily_prices / df_daily_prices.shift(1))\n",
    "\n",
    "# Drop na values\n",
    "df_daily_prices = df_daily_prices.dropna()\n",
    "df_daily_log_returns = df_daily_log_returns.dropna()"
   ]
  },
  {
   "cell_type": "markdown",
   "id": "1777da9d",
   "metadata": {},
   "source": [
    "## Plot Stock Price and Log Return Series"
   ]
  },
  {
   "cell_type": "code",
   "execution_count": 6,
   "id": "1a55efc9",
   "metadata": {},
   "outputs": [
    {
     "data": {
      "image/png": "[encoded data removed]",
      "text/plain": [
       "<Figure size 720x288 with 1 Axes>"
      ]
     },
     "metadata": {
      "needs_background": "light"
     },
     "output_type": "display_data"
    }
   ],
   "source": [
    "# Plot the price series of NVDA\n",
    "plt.figure(figsize=(10, 4))\n",
    "plt.plot(df_daily_prices.index, df_daily_prices[\"NVDA\"])\n",
    "plt.title(\"NVDA Daily Stock Price Series\")\n",
    "plt.xlabel(\"Date\")\n",
    "plt.ylabel(\"Price\")\n",
    "plt.show()"
   ]
  },
  {
   "cell_type": "code",
   "execution_count": 7,
   "id": "f0e41a7e",
   "metadata": {},
   "outputs": [
    {
     "data": {
      "image/png": "[encoded data removed]",
      "text/plain": [
       "<Figure size 720x288 with 1 Axes>"
      ]
     },
     "metadata": {
      "needs_background": "light"
     },
     "output_type": "display_data"
    }
   ],
   "source": [
    "# Plot the log returns of NVDA\n",
    "plt.figure(figsize=(10, 4))\n",
    "plt.plot(df_daily_log_returns.index, df_daily_log_returns[\"NVDA\"])\n",
    "plt.title(\"NVDA Daily Log Return Series\")\n",
    "plt.xlabel(\"Date\")\n",
    "plt.ylabel(\"Log Returns\")\n",
    "plt.show()"
   ]
  },
  {
   "cell_type": "markdown",
   "id": "d9ad37f2",
   "metadata": {},
   "source": [
    "## ACF and PACF"
   ]
  },
  {
   "cell_type": "code",
   "execution_count": 8,
   "id": "bbdeec2e",
   "metadata": {},
   "outputs": [
    {
     "data": {
      "image/png": "[encoded data removed]",
      "text/plain": [
       "<Figure size 720x576 with 2 Axes>"
      ]
     },
     "metadata": {
      "needs_background": "light"
     },
     "output_type": "display_data"
    }
   ],
   "source": [
    "# Plot the ACF and PACF of NVDA log returns\n",
    "fig, ax = plt.subplots(nrows=2, ncols=1, figsize=(10, 8))\n",
    "\n",
    "# ACF plot\n",
    "plot_acf(df_daily_log_returns[\"NVDA\"], ax=ax[0], lags=30)\n",
    "ax[0].set_title(\"Autocorrelation Function (ACF) of NVDA Daily Log Returns\")\n",
    "\n",
    "# PACF plot\n",
    "plot_pacf(df_daily_log_returns[\"NVDA\"], ax=ax[1], lags=30)\n",
    "ax[1].set_title(\"Partial Autocorrelation Function (PACF) of NVDA Daily Log Returns\")\n",
    "\n",
    "plt.tight_layout()\n",
    "plt.show()"
   ]
  },
  {
   "cell_type": "markdown",
   "id": "6e7c9811",
   "metadata": {},
   "source": [
    "## LSTM Model Construction"
   ]
  },
  {
   "cell_type": "markdown",
   "id": "5fabb283",
   "metadata": {},
   "source": [
    "### Prepare the data"
   ]
  },
  {
   "cell_type": "code",
   "execution_count": 17,
   "id": "f1a8c5fd",
   "metadata": {},
   "outputs": [],
   "source": [
    "# Select only the NVDA column from df_daily_prices\n",
    "train_prices = df_daily_prices['NVDA'].values[:train_size]\n",
    "test_prices = df_daily_prices['NVDA'].values[train_size:]\n",
    "\n",
    "# Select only the NVDA column from df_daily_log_returns\n",
    "train_log_returns = df_daily_log_returns['NVDA'].values[:train_size]\n",
    "test_log_returns = df_daily_log_returns['NVDA'].values[train_size:]"
   ]
  },
  {
   "cell_type": "markdown",
   "id": "151e121a",
   "metadata": {},
   "source": [
    "### Normalise the data"
   ]
  },
  {
   "cell_type": "code",
   "execution_count": 18,
   "id": "d4caae07",
   "metadata": {},
   "outputs": [],
   "source": [
    "scaler = MinMaxScaler()\n",
    "train_data = scaler.fit_transform(train_data)\n",
    "test_data = scaler.transform(test_data)"
   ]
  },
  {
   "cell_type": "markdown",
   "id": "52bc3874",
   "metadata": {},
   "source": [
    "### Create sequences"
   ]
  },
  {
   "cell_type": "code",
   "execution_count": 19,
   "id": "73a9e035",
   "metadata": {},
   "outputs": [],
   "source": [
    "# Define the sequence length\n",
    "sequence_length = 50\n",
    "\n",
    "def create_sequences(data, sequence_length):\n",
    "    X = []\n",
    "    y = []\n",
    "    for i in range(len(data) - sequence_length):\n",
    "        X.append(data[i:i+sequence_length])\n",
    "        y.append(data[i+sequence_length])\n",
    "    return np.array(X), np.array(y)\n",
    "\n",
    "trainX, trainY = create_sequences(train_data, sequence_length)\n",
    "testX, testY = create_sequences(test_data, sequence_length)"
   ]
  },
  {
   "cell_type": "markdown",
   "id": "17a31a34",
   "metadata": {},
   "source": [
    "### Build LSTM model"
   ]
  },
  {
   "cell_type": "code",
   "execution_count": 12,
   "id": "004d6e6c",
   "metadata": {},
   "outputs": [
    {
     "name": "stdout",
     "output_type": "stream",
     "text": [
      "Epoch 1/50\n",
      "42/42 [==============================] - 3s 15ms/step - loss: 0.0299\n",
      "Epoch 2/50\n",
      "42/42 [==============================] - 1s 15ms/step - loss: 0.0145\n",
      "Epoch 3/50\n",
      "42/42 [==============================] - 1s 15ms/step - loss: 0.0137\n",
      "Epoch 4/50\n",
      "42/42 [==============================] - 1s 15ms/step - loss: 0.0141\n",
      "Epoch 5/50\n",
      "42/42 [==============================] - 1s 15ms/step - loss: 0.0140\n",
      "Epoch 6/50\n",
      "42/42 [==============================] - 1s 15ms/step - loss: 0.0140\n",
      "Epoch 7/50\n",
      "42/42 [==============================] - 1s 15ms/step - loss: 0.0135\n",
      "Epoch 8/50\n",
      "42/42 [==============================] - 1s 16ms/step - loss: 0.0136\n",
      "Epoch 9/50\n",
      "42/42 [==============================] - 1s 15ms/step - loss: 0.0133\n",
      "Epoch 10/50\n",
      "42/42 [==============================] - 1s 15ms/step - loss: 0.0137\n",
      "Epoch 11/50\n",
      "42/42 [==============================] - 1s 15ms/step - loss: 0.0133\n",
      "Epoch 12/50\n",
      "42/42 [==============================] - 1s 15ms/step - loss: 0.0133\n",
      "Epoch 13/50\n",
      "42/42 [==============================] - 1s 15ms/step - loss: 0.0136\n",
      "Epoch 14/50\n",
      "42/42 [==============================] - 1s 15ms/step - loss: 0.0135\n",
      "Epoch 15/50\n",
      "42/42 [==============================] - 1s 15ms/step - loss: 0.0133\n",
      "Epoch 16/50\n",
      "42/42 [==============================] - 1s 15ms/step - loss: 0.0131\n",
      "Epoch 17/50\n",
      "42/42 [==============================] - 1s 15ms/step - loss: 0.0130\n",
      "Epoch 18/50\n",
      "42/42 [==============================] - 1s 15ms/step - loss: 0.0132\n",
      "Epoch 19/50\n",
      "42/42 [==============================] - 1s 15ms/step - loss: 0.0129\n",
      "Epoch 20/50\n",
      "42/42 [==============================] - 1s 15ms/step - loss: 0.0132\n",
      "Epoch 21/50\n",
      "42/42 [==============================] - 1s 15ms/step - loss: 0.0130\n",
      "Epoch 22/50\n",
      "42/42 [==============================] - 1s 15ms/step - loss: 0.0127\n",
      "Epoch 23/50\n",
      "42/42 [==============================] - 1s 15ms/step - loss: 0.0130\n",
      "Epoch 24/50\n",
      "42/42 [==============================] - 1s 15ms/step - loss: 0.0129\n",
      "Epoch 25/50\n",
      "42/42 [==============================] - 1s 15ms/step - loss: 0.0129\n",
      "Epoch 26/50\n",
      "42/42 [==============================] - 1s 15ms/step - loss: 0.0129\n",
      "Epoch 27/50\n",
      "42/42 [==============================] - 1s 16ms/step - loss: 0.0129\n",
      "Epoch 28/50\n",
      "42/42 [==============================] - 1s 15ms/step - loss: 0.0130\n",
      "Epoch 29/50\n",
      "42/42 [==============================] - 1s 15ms/step - loss: 0.0128\n",
      "Epoch 30/50\n",
      "42/42 [==============================] - 1s 16ms/step - loss: 0.0129\n",
      "Epoch 31/50\n",
      "42/42 [==============================] - 1s 15ms/step - loss: 0.0131\n",
      "Epoch 32/50\n",
      "42/42 [==============================] - 1s 15ms/step - loss: 0.0127\n",
      "Epoch 33/50\n",
      "42/42 [==============================] - 1s 15ms/step - loss: 0.0129\n",
      "Epoch 34/50\n",
      "42/42 [==============================] - 1s 15ms/step - loss: 0.0128\n",
      "Epoch 35/50\n",
      "42/42 [==============================] - 1s 15ms/step - loss: 0.0127\n",
      "Epoch 36/50\n",
      "42/42 [==============================] - 1s 15ms/step - loss: 0.0127\n",
      "Epoch 37/50\n",
      "42/42 [==============================] - 1s 15ms/step - loss: 0.0128\n",
      "Epoch 38/50\n",
      "42/42 [==============================] - 1s 15ms/step - loss: 0.0125\n",
      "Epoch 39/50\n",
      "42/42 [==============================] - 1s 16ms/step - loss: 0.0126\n",
      "Epoch 40/50\n",
      "42/42 [==============================] - 1s 16ms/step - loss: 0.0125\n",
      "Epoch 41/50\n",
      "42/42 [==============================] - 1s 15ms/step - loss: 0.0126\n",
      "Epoch 42/50\n",
      "42/42 [==============================] - 1s 15ms/step - loss: 0.0126\n",
      "Epoch 43/50\n",
      "42/42 [==============================] - 1s 15ms/step - loss: 0.0127\n",
      "Epoch 44/50\n",
      "42/42 [==============================] - 1s 15ms/step - loss: 0.0125\n",
      "Epoch 45/50\n",
      "42/42 [==============================] - 1s 15ms/step - loss: 0.0127\n",
      "Epoch 46/50\n",
      "42/42 [==============================] - 1s 15ms/step - loss: 0.0124\n",
      "Epoch 47/50\n",
      "42/42 [==============================] - 1s 15ms/step - loss: 0.0124\n",
      "Epoch 48/50\n",
      "42/42 [==============================] - 1s 15ms/step - loss: 0.0124\n",
      "Epoch 49/50\n",
      "42/42 [==============================] - 1s 15ms/step - loss: 0.0125\n",
      "Epoch 50/50\n",
      "42/42 [==============================] - 1s 16ms/step - loss: 0.0127\n"
     ]
    },
    {
     "data": {
      "text/plain": [
       "<keras.callbacks.History at 0x1ae51fbc880>"
      ]
     },
     "execution_count": 12,
     "metadata": {},
     "output_type": "execute_result"
    }
   ],
   "source": [
    "model = Sequential()\n",
    "model.add(LSTM(units=50, return_sequences=True, input_shape=(trainX.shape[1], trainX.shape[2])))\n",
    "model.add(Dropout(0.2))\n",
    "model.add(LSTM(units=50, return_sequences=False))\n",
    "model.add(Dropout(0.2))\n",
    "model.add(Dense(units=1))\n",
    "\n",
    "# Compile the model\n",
    "model.compile(optimizer='adam', loss='mean_squared_error')\n",
    "\n",
    "# Train the model\n",
    "with tf.device('/GPU:0'):\n",
    "    model.fit(train_data, epochs=epochs, batch_size=batch_size)"
   ]
  },
  {
   "cell_type": "markdown",
   "id": "8886ebb0",
   "metadata": {},
   "source": [
    "### Save / load model"
   ]
  },
  {
   "cell_type": "code",
   "execution_count": 13,
   "id": "99386069",
   "metadata": {},
   "outputs": [],
   "source": [
    "# Saving the model\n",
    "model.save('model.h5')"
   ]
  },
  {
   "cell_type": "raw",
   "id": "68d62096",
   "metadata": {},
   "source": [
    "# Loading the model\n",
    "model = load_model('model.h5')"
   ]
  },
  {
   "cell_type": "markdown",
   "id": "49e7fada",
   "metadata": {},
   "source": [
    "### Generate predictions"
   ]
  },
  {
   "cell_type": "code",
   "execution_count": 14,
   "id": "8e8414b3",
   "metadata": {},
   "outputs": [
    {
     "name": "stdout",
     "output_type": "stream",
     "text": [
      "42/42 [==============================] - 1s 6ms/step\n",
      "10/10 [==============================] - 0s 6ms/step\n"
     ]
    }
   ],
   "source": [
    "trainPredict = model.predict(trainX)\n",
    "testPredict = model.predict(testX)"
   ]
  },
  {
   "cell_type": "markdown",
   "id": "17a42602",
   "metadata": {},
   "source": [
    "### Converted predicted log returns to prices"
   ]
  },
  {
   "cell_type": "code",
   "execution_count": 15,
   "id": "3f3f0853",
   "metadata": {},
   "outputs": [
    {
     "ename": "ValueError",
     "evalue": "non-broadcastable output operand with shape (1339,1) doesn't match the broadcast shape (1339,3)",
     "output_type": "error",
     "traceback": [
      "\u001b[1;31m---------------------------------------------------------------------------\u001b[0m",
      "\u001b[1;31mValueError\u001b[0m                                Traceback (most recent call last)",
      "\u001b[1;32m~\\AppData\\Local\\Temp/ipykernel_37096/2905864316.py\u001b[0m in \u001b[0;36m<module>\u001b[1;34m\u001b[0m\n\u001b[0;32m      1\u001b[0m \u001b[1;31m# Inverse transform the predictions\u001b[0m\u001b[1;33m\u001b[0m\u001b[1;33m\u001b[0m\u001b[0m\n\u001b[1;32m----> 2\u001b[1;33m \u001b[0mtrainPredict\u001b[0m \u001b[1;33m=\u001b[0m \u001b[0mscaler\u001b[0m\u001b[1;33m.\u001b[0m\u001b[0minverse_transform\u001b[0m\u001b[1;33m(\u001b[0m\u001b[0mtrainPredict\u001b[0m\u001b[1;33m.\u001b[0m\u001b[0mreshape\u001b[0m\u001b[1;33m(\u001b[0m\u001b[1;33m-\u001b[0m\u001b[1;36m1\u001b[0m\u001b[1;33m,\u001b[0m \u001b[1;36m1\u001b[0m\u001b[1;33m)\u001b[0m\u001b[1;33m)\u001b[0m\u001b[1;33m\u001b[0m\u001b[1;33m\u001b[0m\u001b[0m\n\u001b[0m\u001b[0;32m      3\u001b[0m \u001b[0mtestPredict\u001b[0m \u001b[1;33m=\u001b[0m \u001b[0mscaler\u001b[0m\u001b[1;33m.\u001b[0m\u001b[0minverse_transform\u001b[0m\u001b[1;33m(\u001b[0m\u001b[0mtestPredict\u001b[0m\u001b[1;33m.\u001b[0m\u001b[0mreshape\u001b[0m\u001b[1;33m(\u001b[0m\u001b[1;33m-\u001b[0m\u001b[1;36m1\u001b[0m\u001b[1;33m,\u001b[0m \u001b[1;36m1\u001b[0m\u001b[1;33m)\u001b[0m\u001b[1;33m)\u001b[0m\u001b[1;33m\u001b[0m\u001b[1;33m\u001b[0m\u001b[0m\n\u001b[0;32m      4\u001b[0m \u001b[1;33m\u001b[0m\u001b[0m\n\u001b[0;32m      5\u001b[0m \u001b[1;31m# Inverse transform the actual data\u001b[0m\u001b[1;33m\u001b[0m\u001b[1;33m\u001b[0m\u001b[0m\n",
      "\u001b[1;32m~\\anaconda3\\lib\\site-packages\\sklearn\\preprocessing\\_data.py\u001b[0m in \u001b[0;36minverse_transform\u001b[1;34m(self, X)\u001b[0m\n\u001b[0;32m    459\u001b[0m                         force_all_finite=\"allow-nan\")\n\u001b[0;32m    460\u001b[0m \u001b[1;33m\u001b[0m\u001b[0m\n\u001b[1;32m--> 461\u001b[1;33m         \u001b[0mX\u001b[0m \u001b[1;33m-=\u001b[0m \u001b[0mself\u001b[0m\u001b[1;33m.\u001b[0m\u001b[0mmin_\u001b[0m\u001b[1;33m\u001b[0m\u001b[1;33m\u001b[0m\u001b[0m\n\u001b[0m\u001b[0;32m    462\u001b[0m         \u001b[0mX\u001b[0m \u001b[1;33m/=\u001b[0m \u001b[0mself\u001b[0m\u001b[1;33m.\u001b[0m\u001b[0mscale_\u001b[0m\u001b[1;33m\u001b[0m\u001b[1;33m\u001b[0m\u001b[0m\n\u001b[0;32m    463\u001b[0m         \u001b[1;32mreturn\u001b[0m \u001b[0mX\u001b[0m\u001b[1;33m\u001b[0m\u001b[1;33m\u001b[0m\u001b[0m\n",
      "\u001b[1;31mValueError\u001b[0m: non-broadcastable output operand with shape (1339,1) doesn't match the broadcast shape (1339,3)"
     ]
    }
   ],
   "source": [
    "# Inverse transform the predictions\n",
    "trainPredict = scaler.inverse_transform(trainPredict.reshape(-1, 1))\n",
    "testPredict = scaler.inverse_transform(testPredict.reshape(-1, 1))\n",
    "\n",
    "# Inverse transform the actual data\n",
    "trainY = scaler.inverse_transform(trainY.reshape(-1, 1))\n",
    "testY = scaler.inverse_transform(testY.reshape(-1, 1))"
   ]
  },
  {
   "cell_type": "markdown",
   "id": "766d930d",
   "metadata": {},
   "source": [
    "### Visualise results"
   ]
  },
  {
   "cell_type": "code",
   "execution_count": null,
   "id": "b075d702",
   "metadata": {},
   "outputs": [],
   "source": [
    "plt.figure(figsize=(16, 8))\n",
    "plt.plot(df_daily_prices.index[train_size+sequence_length:], df_daily_prices['NVDA'][train_size+sequence_length:], color='g', label='Actual Test Prices')\n",
    "plt.plot(df_daily_prices.index[train_size+sequence_length:train_size+sequence_length+len(testPredict)], testPredict, color='y', label='Predicted Test Prices')\n",
    "plt.title('Actual vs Predicted Test Prices for NVDA')\n",
    "plt.xlabel('Date')\n",
    "plt.ylabel('Price')\n",
    "plt.legend()\n",
    "plt.show()"
   ]
  },
  {
   "cell_type": "code",
   "execution_count": null,
   "id": "b46ca466",
   "metadata": {},
   "outputs": [],
   "source": []
  }
 ],
 "metadata": {
  "kernelspec": {
   "display_name": "Python 3 (ipykernel)",
   "language": "python",
   "name": "python3"
  },
  "language_info": {
   "codemirror_mode": {
    "name": "ipython",
    "version": 3
   },
   "file_extension": ".py",
   "mimetype": "text/x-python",
   "name": "python",
   "nbconvert_exporter": "python",
   "pygments_lexer": "ipython3",
   "version": "3.9.7"
  }
 },
 "nbformat": 4,
 "nbformat_minor": 5
}
